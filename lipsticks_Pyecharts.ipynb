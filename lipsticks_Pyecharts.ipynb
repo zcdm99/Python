{
 "cells": [
  {
   "cell_type": "markdown",
   "metadata": {},
   "source": [
    "# 网易考拉口红销售数据可视化以及数据分析探索"
   ]
  },
  {
   "cell_type": "code",
   "execution_count": 6,
   "metadata": {},
   "outputs": [],
   "source": [
    "import numpy as np\n",
    "import pandas as pd\n",
    "import matplotlib.pyplot as plt\n",
    "import seaborn as sns\n",
    "%matplotlib inline"
   ]
  },
  {
   "cell_type": "code",
   "execution_count": 7,
   "metadata": {},
   "outputs": [],
   "source": [
    "plt.rcParams['font.sans-serif'] = ['Microsoft YaHei']  # 用来正常显示中文标签\n",
    "plt.rcParams['axes.unicode_minus'] = False"
   ]
  },
  {
   "cell_type": "markdown",
   "metadata": {},
   "source": [
    "## 数据导入、查看"
   ]
  },
  {
   "cell_type": "code",
   "execution_count": 8,
   "metadata": {},
   "outputs": [],
   "source": [
    "# 查看当前挂载的数据集目录\n",
    "Data=pd.read_excel(r\"D:\\PycharmProjects\\Test_learning\\lipsticks\\lipsticks.xlsx\")"
   ]
  },
  {
   "cell_type": "code",
   "execution_count": 9,
   "metadata": {},
   "outputs": [
    {
     "data": {
      "text/html": [
       "<div>\n",
       "<style scoped>\n",
       "    .dataframe tbody tr th:only-of-type {\n",
       "        vertical-align: middle;\n",
       "    }\n",
       "\n",
       "    .dataframe tbody tr th {\n",
       "        vertical-align: top;\n",
       "    }\n",
       "\n",
       "    .dataframe thead th {\n",
       "        text-align: right;\n",
       "    }\n",
       "</style>\n",
       "<table border=\"1\" class=\"dataframe\">\n",
       "  <thead>\n",
       "    <tr style=\"text-align: right;\">\n",
       "      <th></th>\n",
       "      <th>品牌</th>\n",
       "      <th>页面网址</th>\n",
       "      <th>采集时间</th>\n",
       "      <th>折扣价</th>\n",
       "      <th>原价</th>\n",
       "      <th>商品标题</th>\n",
       "      <th>是否自营</th>\n",
       "      <th>标签1</th>\n",
       "      <th>标签2</th>\n",
       "      <th>标签3</th>\n",
       "      <th>评论数</th>\n",
       "      <th>商品链接</th>\n",
       "      <th>国家</th>\n",
       "      <th>店铺</th>\n",
       "    </tr>\n",
       "  </thead>\n",
       "  <tbody>\n",
       "    <tr>\n",
       "      <th>0</th>\n",
       "      <td>Dior 迪奥</td>\n",
       "      <td>https://www.kaola.com/search.html?key=%25E5%25...</td>\n",
       "      <td>2018-11-08</td>\n",
       "      <td>¥198</td>\n",
       "      <td>¥299</td>\n",
       "      <td>Dior 迪奥粉漾魅惑变色润唇膏 01#粉色3.5克</td>\n",
       "      <td>自营</td>\n",
       "      <td>白条免息</td>\n",
       "      <td>NaN</td>\n",
       "      <td>NaN</td>\n",
       "      <td>23440</td>\n",
       "      <td>https://www.kaola.com/product/1588979.html</td>\n",
       "      <td>法国</td>\n",
       "      <td>网易考拉自营</td>\n",
       "    </tr>\n",
       "    <tr>\n",
       "      <th>1</th>\n",
       "      <td>Dior 迪奥</td>\n",
       "      <td>https://www.kaola.com/search.html?key=%25E5%25...</td>\n",
       "      <td>2018-11-08</td>\n",
       "      <td>¥298</td>\n",
       "      <td>¥320</td>\n",
       "      <td>Dior 迪奥 烈艳蓝金唇膏烈焰口红 3.5克</td>\n",
       "      <td>自营</td>\n",
       "      <td>包税</td>\n",
       "      <td>白条免息</td>\n",
       "      <td>NaN</td>\n",
       "      <td>4350</td>\n",
       "      <td>https://www.kaola.com/product/2415785.html</td>\n",
       "      <td>法国</td>\n",
       "      <td>网易考拉自营</td>\n",
       "    </tr>\n",
       "    <tr>\n",
       "      <th>2</th>\n",
       "      <td>Dior 迪奥</td>\n",
       "      <td>https://www.kaola.com/search.html?key=%25E5%25...</td>\n",
       "      <td>2018-11-08</td>\n",
       "      <td>¥169</td>\n",
       "      <td>NaN</td>\n",
       "      <td>【双11预售】Dior 迪奥 粉漾魅惑变色润唇膏 3.5克</td>\n",
       "      <td>自营</td>\n",
       "      <td>白条免息</td>\n",
       "      <td>NaN</td>\n",
       "      <td>NaN</td>\n",
       "      <td>555</td>\n",
       "      <td>https://www.kaola.com/product/2053434.html</td>\n",
       "      <td>法国</td>\n",
       "      <td>网易考拉自营</td>\n",
       "    </tr>\n",
       "    <tr>\n",
       "      <th>3</th>\n",
       "      <td>Dior 迪奥</td>\n",
       "      <td>https://www.kaola.com/search.html?key=%25E5%25...</td>\n",
       "      <td>2018-11-08</td>\n",
       "      <td>¥179</td>\n",
       "      <td>¥300</td>\n",
       "      <td>Dior 迪奥 魅惑釉唇膏 3.2克</td>\n",
       "      <td>自营</td>\n",
       "      <td>白条免息</td>\n",
       "      <td>特价</td>\n",
       "      <td>NaN</td>\n",
       "      <td>1690</td>\n",
       "      <td>https://www.kaola.com/product/1600086.html</td>\n",
       "      <td>法国</td>\n",
       "      <td>网易考拉自营</td>\n",
       "    </tr>\n",
       "    <tr>\n",
       "      <th>4</th>\n",
       "      <td>Dior 迪奥</td>\n",
       "      <td>https://www.kaola.com/search.html?key=%25E5%25...</td>\n",
       "      <td>2018-11-08</td>\n",
       "      <td>¥169</td>\n",
       "      <td>¥300</td>\n",
       "      <td>Dior 迪奥 粉漾魅惑变色润唇膏 3.5克</td>\n",
       "      <td>自营</td>\n",
       "      <td>白条免息</td>\n",
       "      <td>特价</td>\n",
       "      <td>NaN</td>\n",
       "      <td>545</td>\n",
       "      <td>https://www.kaola.com/product/2320261.html</td>\n",
       "      <td>法国</td>\n",
       "      <td>网易考拉自营</td>\n",
       "    </tr>\n",
       "  </tbody>\n",
       "</table>\n",
       "</div>"
      ],
      "text/plain": [
       "        品牌                                               页面网址        采集时间  \\\n",
       "0  Dior 迪奥  https://www.kaola.com/search.html?key=%25E5%25...  2018-11-08   \n",
       "1  Dior 迪奥  https://www.kaola.com/search.html?key=%25E5%25...  2018-11-08   \n",
       "2  Dior 迪奥  https://www.kaola.com/search.html?key=%25E5%25...  2018-11-08   \n",
       "3  Dior 迪奥  https://www.kaola.com/search.html?key=%25E5%25...  2018-11-08   \n",
       "4  Dior 迪奥  https://www.kaola.com/search.html?key=%25E5%25...  2018-11-08   \n",
       "\n",
       "    折扣价    原价                           商品标题 是否自营   标签1   标签2  标签3    评论数  \\\n",
       "0  ¥198  ¥299     Dior 迪奥粉漾魅惑变色润唇膏 01#粉色3.5克   自营  白条免息   NaN  NaN  23440   \n",
       "1  ¥298  ¥320        Dior 迪奥 烈艳蓝金唇膏烈焰口红 3.5克   自营    包税  白条免息  NaN   4350   \n",
       "2  ¥169   NaN  【双11预售】Dior 迪奥 粉漾魅惑变色润唇膏 3.5克   自营  白条免息   NaN  NaN    555   \n",
       "3  ¥179  ¥300             Dior 迪奥 魅惑釉唇膏 3.2克   自营  白条免息    特价  NaN   1690   \n",
       "4  ¥169  ¥300         Dior 迪奥 粉漾魅惑变色润唇膏 3.5克   自营  白条免息    特价  NaN    545   \n",
       "\n",
       "                                         商品链接  国家      店铺  \n",
       "0  https://www.kaola.com/product/1588979.html  法国  网易考拉自营  \n",
       "1  https://www.kaola.com/product/2415785.html  法国  网易考拉自营  \n",
       "2  https://www.kaola.com/product/2053434.html  法国  网易考拉自营  \n",
       "3  https://www.kaola.com/product/1600086.html  法国  网易考拉自营  \n",
       "4  https://www.kaola.com/product/2320261.html  法国  网易考拉自营  "
      ]
     },
     "execution_count": 9,
     "metadata": {},
     "output_type": "execute_result"
    }
   ],
   "source": [
    "#查看数据集基本情况\n",
    "Data.head()"
   ]
  },
  {
   "cell_type": "code",
   "execution_count": 10,
   "metadata": {},
   "outputs": [
    {
     "data": {
      "text/plain": [
       "品牌      object\n",
       "页面网址    object\n",
       "采集时间    object\n",
       "折扣价     object\n",
       "原价      object\n",
       "商品标题    object\n",
       "是否自营    object\n",
       "标签1     object\n",
       "标签2     object\n",
       "标签3     object\n",
       "评论数      int64\n",
       "商品链接    object\n",
       "国家      object\n",
       "店铺      object\n",
       "dtype: object"
      ]
     },
     "execution_count": 10,
     "metadata": {},
     "output_type": "execute_result"
    }
   ],
   "source": [
    "Data.dtypes"
   ]
  },
  {
   "cell_type": "code",
   "execution_count": 11,
   "metadata": {},
   "outputs": [
    {
     "name": "stdout",
     "output_type": "stream",
     "text": [
      "<class 'pandas.core.frame.DataFrame'>\n",
      "RangeIndex: 540 entries, 0 to 539\n",
      "Data columns (total 14 columns):\n",
      "品牌      540 non-null object\n",
      "页面网址    540 non-null object\n",
      "采集时间    540 non-null object\n",
      "折扣价     540 non-null object\n",
      "原价      525 non-null object\n",
      "商品标题    540 non-null object\n",
      "是否自营    455 non-null object\n",
      "标签1     525 non-null object\n",
      "标签2     326 non-null object\n",
      "标签3     178 non-null object\n",
      "评论数     540 non-null int64\n",
      "商品链接    540 non-null object\n",
      "国家      540 non-null object\n",
      "店铺      455 non-null object\n",
      "dtypes: int64(1), object(13)\n",
      "memory usage: 59.1+ KB\n"
     ]
    }
   ],
   "source": [
    "Data.info()"
   ]
  },
  {
   "cell_type": "markdown",
   "metadata": {},
   "source": [
    "通过对数据的简单描述发现：\n",
    "总共有14个特征列，每个特征列有540个数据。\n",
    "有6列有一定程度的缺失（原价/是否自营/标签1/标签2/标签3/店铺）"
   ]
  },
  {
   "cell_type": "markdown",
   "metadata": {},
   "source": [
    "## 数据清洗\n",
    "缺失值\n",
    "重复值"
   ]
  },
  {
   "cell_type": "code",
   "execution_count": 12,
   "metadata": {},
   "outputs": [
    {
     "data": {
      "text/plain": [
       "540"
      ]
     },
     "execution_count": 12,
     "metadata": {},
     "output_type": "execute_result"
    }
   ],
   "source": [
    "# 查看重复\n",
    "Data.duplicated(['商品标题','折扣价','是否自营']).count()#主要指标无重复"
   ]
  },
  {
   "cell_type": "code",
   "execution_count": 13,
   "metadata": {},
   "outputs": [],
   "source": [
    "# 缺失值处理 :是否自营和店铺均填充为非自营,原价设置为折扣价\n",
    "Data['是否自营'].fillna(value='非自营',inplace=True)\n",
    "Data['店铺'].fillna(value='非自营',inplace=True)\n",
    "Data['原价'].fillna(value=Data['折扣价'],inplace=True)"
   ]
  },
  {
   "cell_type": "code",
   "execution_count": 14,
   "metadata": {},
   "outputs": [],
   "source": [
    "# 浏览修改后的数据发现原价中含有“新人价”、“XX折” 新人价用折扣价填充，XX折则与折扣计算后填充首先将新人价替换成折扣价\n",
    "Data['price_0'] =Data['原价'].replace('新人价',Data['折扣价'])"
   ]
  },
  {
   "cell_type": "code",
   "execution_count": 15,
   "metadata": {},
   "outputs": [
    {
     "name": "stdout",
     "output_type": "stream",
     "text": [
      "['6.7折' '9.6折' '8.9折' '9.8折' '7.8折' '7折' '7折' '7.5折' '6.4折' '7.8折' '7.1折'\n",
      " '6.4折' '5.9折' '9.1折' '4.2折' '3.3折' '6.5折' '6.2折' '7折' '8.5折' '7.6折'\n",
      " '8.7折' '8折' '5.9折' '8.4折' '5.9折' '7折' '8.3折' '8.8折' '4.4折' '6.9折' '8.3折'\n",
      " '6.6折' '8.1折' '8.6折' '8.4折' '6.6折' '8折' '8折' '3.4折' '3.5折' '8.1折' '8.3折'\n",
      " '8.3折' '7.4折' '3.8折' '6.6折' '6.5折' '6折' '6.6折' '6.6折' '7.1折' '6.6折' '6折'\n",
      " '6.6折' '6.6折' '6.6折' '6.6折' '6.6折' '6.6折' '6.6折' '7.1折' '6折' '5.1折' '6折'] ['¥302' '¥308' '¥285' '¥315' '¥109' '¥119' '¥119' '¥119' '¥119' '¥109'\n",
      " '¥125' '¥119' '¥109' '¥99' '¥79' '¥99' '¥104' '¥49' '¥118' '¥118' '¥75'\n",
      " '¥69' '¥79' '¥35' '¥75' '¥175' '¥118' '¥99' '¥105' '¥75' '¥89' '¥99'\n",
      " '¥99' '¥105' '¥268' '¥268' '¥19' '¥39' '¥39' '¥119' '¥99' '¥143' '¥166'\n",
      " '¥170' '¥238' '¥246' '¥39' '¥129' '¥119' '¥39' '¥39' '¥42' '¥39' '¥59'\n",
      " '¥39' '¥39' '¥39' '¥39' '¥39' '¥39' '¥39' '¥42' '¥59' '¥29.9' '¥59']\n"
     ]
    }
   ],
   "source": [
    "discount_list=Data.loc[Data['price_0'].str.contains('折'),\"原价\"].values# 筛选原价列中含有”折“的行，并转化为列表\n",
    "price_list=Data.loc[Data['price_0'].str.contains('折'),\"折扣价\"].values# 筛选折扣价列中含有”折“的行，并转化为列表\n",
    "print(discount_list,price_list)\n"
   ]
  },
  {
   "cell_type": "code",
   "execution_count": 16,
   "metadata": {},
   "outputs": [
    {
     "name": "stdout",
     "output_type": "stream",
     "text": [
      "['¥450.75', '¥320.83', '¥320.22', '¥321.43', '¥139.74', '¥170.0', '¥170.0', '¥158.67', '¥185.94', '¥139.74', '¥176.06', '¥185.94', '¥184.75', '¥108.79', '¥188.1', '¥300.0', '¥160.0', '¥79.03', '¥168.57', '¥138.82', '¥98.68', '¥79.31', '¥98.75', '¥59.32', '¥89.29', '¥296.61', '¥168.57', '¥119.28', '¥119.32', '¥170.45', '¥128.99', '¥119.28', '¥150.0', '¥129.63', '¥311.63', '¥319.05', '¥28.79', '¥48.75', '¥48.75', '¥350.0', '¥282.86', '¥176.54', '¥200.0', '¥204.82', '¥321.62', '¥647.37', '¥59.09', '¥198.46', '¥198.33', '¥59.09', '¥59.09', '¥59.15', '¥59.09', '¥98.33', '¥59.09', '¥59.09', '¥59.09', '¥59.09', '¥59.09', '¥59.09', '¥59.09', '¥59.15', '¥98.33', '¥58.63', '¥98.33']\n"
     ]
    }
   ],
   "source": [
    "value_list=[]#将该部分行提取折扣并转换为列表\n",
    "for i,j in zip(discount_list,price_list):\n",
    "    i=float(i.replace('折',''))\n",
    "    j=float(j.replace('¥', ''))\n",
    "    z=round(j * 10 / i,2)\n",
    "    z='¥'+str(z)\n",
    "    value_list.append(z)\n",
    "print(value_list)"
   ]
  },
  {
   "cell_type": "code",
   "execution_count": 17,
   "metadata": {},
   "outputs": [
    {
     "data": {
      "text/plain": [
       "(65, 1)"
      ]
     },
     "execution_count": 17,
     "metadata": {},
     "output_type": "execute_result"
    }
   ],
   "source": [
    "pd.DataFrame(value_list).shape"
   ]
  },
  {
   "cell_type": "code",
   "execution_count": 18,
   "metadata": {},
   "outputs": [],
   "source": [
    "Data.loc[Data['price_0'].str.contains('折'),\"price_0\"]=value_list"
   ]
  },
  {
   "cell_type": "code",
   "execution_count": 19,
   "metadata": {},
   "outputs": [
    {
     "data": {
      "text/plain": [
       "¥320    170\n",
       "¥300     24\n",
       "¥195     22\n",
       "¥170     19\n",
       "¥355     17\n",
       "Name: price_0, dtype: int64"
      ]
     },
     "execution_count": 19,
     "metadata": {},
     "output_type": "execute_result"
    }
   ],
   "source": [
    "Data[\"price_0\"].value_counts().head()"
   ]
  },
  {
   "cell_type": "code",
   "execution_count": 20,
   "metadata": {},
   "outputs": [],
   "source": [
    "Data['折扣价_0']=Data['折扣价'].str.replace('¥', '').astype(float)\n",
    "\n",
    "Data['原价_0']=Data['price_0'].str.replace('¥', '').astype(float)\n",
    "\n",
    "Data['discount']=Data['折扣价_0']/Data['原价_0']"
   ]
  },
  {
   "cell_type": "code",
   "execution_count": 21,
   "metadata": {},
   "outputs": [
    {
     "data": {
      "text/html": [
       "<div>\n",
       "<style scoped>\n",
       "    .dataframe tbody tr th:only-of-type {\n",
       "        vertical-align: middle;\n",
       "    }\n",
       "\n",
       "    .dataframe tbody tr th {\n",
       "        vertical-align: top;\n",
       "    }\n",
       "\n",
       "    .dataframe thead th {\n",
       "        text-align: right;\n",
       "    }\n",
       "</style>\n",
       "<table border=\"1\" class=\"dataframe\">\n",
       "  <thead>\n",
       "    <tr style=\"text-align: right;\">\n",
       "      <th></th>\n",
       "      <th>品牌</th>\n",
       "      <th>页面网址</th>\n",
       "      <th>采集时间</th>\n",
       "      <th>折扣价</th>\n",
       "      <th>原价</th>\n",
       "      <th>商品标题</th>\n",
       "      <th>是否自营</th>\n",
       "      <th>标签1</th>\n",
       "      <th>标签2</th>\n",
       "      <th>标签3</th>\n",
       "      <th>评论数</th>\n",
       "      <th>商品链接</th>\n",
       "      <th>国家</th>\n",
       "      <th>店铺</th>\n",
       "      <th>price_0</th>\n",
       "      <th>折扣价_0</th>\n",
       "      <th>原价_0</th>\n",
       "      <th>discount</th>\n",
       "    </tr>\n",
       "  </thead>\n",
       "  <tbody>\n",
       "    <tr>\n",
       "      <th>530</th>\n",
       "      <td>Manuka Bee 小蜜坊</td>\n",
       "      <td>https://www.kaola.com/search.html?key=%25E5%25...</td>\n",
       "      <td>2018-11-08</td>\n",
       "      <td>¥39</td>\n",
       "      <td>6.6折</td>\n",
       "      <td>【江疏影同款 袁姗姗剧款 水瓶座专属 包邮】Manuka bee 小蜜坊 亲蜜润唇棒 5.5...</td>\n",
       "      <td>非自营</td>\n",
       "      <td>79选3</td>\n",
       "      <td>NaN</td>\n",
       "      <td>NaN</td>\n",
       "      <td>15</td>\n",
       "      <td>https://www.kaola.com/product/2476322.html</td>\n",
       "      <td>新西兰</td>\n",
       "      <td>非自营</td>\n",
       "      <td>¥59.09</td>\n",
       "      <td>39.0</td>\n",
       "      <td>59.09</td>\n",
       "      <td>0.660010</td>\n",
       "    </tr>\n",
       "    <tr>\n",
       "      <th>531</th>\n",
       "      <td>Manuka Bee 小蜜坊</td>\n",
       "      <td>https://www.kaola.com/search.html?key=%25E5%25...</td>\n",
       "      <td>2018-11-08</td>\n",
       "      <td>¥39</td>\n",
       "      <td>6.6折</td>\n",
       "      <td>【江疏影同款 袁姗姗剧款 金牛座专属 包邮】Manuka bee 小蜜坊 亲蜜润唇棒 5.5...</td>\n",
       "      <td>非自营</td>\n",
       "      <td>79选3</td>\n",
       "      <td>NaN</td>\n",
       "      <td>NaN</td>\n",
       "      <td>14</td>\n",
       "      <td>https://www.kaola.com/product/2475930.html</td>\n",
       "      <td>新西兰</td>\n",
       "      <td>非自营</td>\n",
       "      <td>¥59.09</td>\n",
       "      <td>39.0</td>\n",
       "      <td>59.09</td>\n",
       "      <td>0.660010</td>\n",
       "    </tr>\n",
       "    <tr>\n",
       "      <th>532</th>\n",
       "      <td>Manuka Bee 小蜜坊</td>\n",
       "      <td>https://www.kaola.com/search.html?key=%25E5%25...</td>\n",
       "      <td>2018-11-08</td>\n",
       "      <td>¥39</td>\n",
       "      <td>6.6折</td>\n",
       "      <td>【江疏影同款 袁姗姗剧款 白羊座专属 包邮】Manuka bee 小蜜坊 亲蜜润唇棒 5.5...</td>\n",
       "      <td>非自营</td>\n",
       "      <td>79选3</td>\n",
       "      <td>NaN</td>\n",
       "      <td>NaN</td>\n",
       "      <td>14</td>\n",
       "      <td>https://www.kaola.com/product/2475741.html</td>\n",
       "      <td>新西兰</td>\n",
       "      <td>非自营</td>\n",
       "      <td>¥59.09</td>\n",
       "      <td>39.0</td>\n",
       "      <td>59.09</td>\n",
       "      <td>0.660010</td>\n",
       "    </tr>\n",
       "    <tr>\n",
       "      <th>533</th>\n",
       "      <td>Manuka Bee 小蜜坊</td>\n",
       "      <td>https://www.kaola.com/search.html?key=%25E5%25...</td>\n",
       "      <td>2018-11-08</td>\n",
       "      <td>¥39</td>\n",
       "      <td>6.6折</td>\n",
       "      <td>【江疏影同款 袁姗姗剧款 双子座专属 包邮】Manuka bee 小蜜坊 亲蜜润唇棒 5.5...</td>\n",
       "      <td>非自营</td>\n",
       "      <td>79选3</td>\n",
       "      <td>NaN</td>\n",
       "      <td>NaN</td>\n",
       "      <td>10</td>\n",
       "      <td>https://www.kaola.com/product/2475781.html</td>\n",
       "      <td>新西兰</td>\n",
       "      <td>非自营</td>\n",
       "      <td>¥59.09</td>\n",
       "      <td>39.0</td>\n",
       "      <td>59.09</td>\n",
       "      <td>0.660010</td>\n",
       "    </tr>\n",
       "    <tr>\n",
       "      <th>534</th>\n",
       "      <td>Manuka Bee 小蜜坊</td>\n",
       "      <td>https://www.kaola.com/search.html?key=%25E5%25...</td>\n",
       "      <td>2018-11-08</td>\n",
       "      <td>¥39</td>\n",
       "      <td>6.6折</td>\n",
       "      <td>【江疏影同款 袁姗姗剧款 射手座专属 包邮】Manuka bee 小蜜坊 亲蜜润唇棒 5.5...</td>\n",
       "      <td>非自营</td>\n",
       "      <td>79选3</td>\n",
       "      <td>NaN</td>\n",
       "      <td>NaN</td>\n",
       "      <td>7</td>\n",
       "      <td>https://www.kaola.com/product/2476281.html</td>\n",
       "      <td>新西兰</td>\n",
       "      <td>非自营</td>\n",
       "      <td>¥59.09</td>\n",
       "      <td>39.0</td>\n",
       "      <td>59.09</td>\n",
       "      <td>0.660010</td>\n",
       "    </tr>\n",
       "    <tr>\n",
       "      <th>535</th>\n",
       "      <td>Manuka Bee 小蜜坊</td>\n",
       "      <td>https://www.kaola.com/search.html?key=%25E5%25...</td>\n",
       "      <td>2018-11-08</td>\n",
       "      <td>¥39</td>\n",
       "      <td>6.6折</td>\n",
       "      <td>【江疏影同款 袁姗姗剧款 处女座专属 包邮】Manuka bee 小蜜坊 亲蜜润唇棒 5.5...</td>\n",
       "      <td>非自营</td>\n",
       "      <td>79选3</td>\n",
       "      <td>NaN</td>\n",
       "      <td>NaN</td>\n",
       "      <td>5</td>\n",
       "      <td>https://www.kaola.com/product/2476062.html</td>\n",
       "      <td>新西兰</td>\n",
       "      <td>非自营</td>\n",
       "      <td>¥59.09</td>\n",
       "      <td>39.0</td>\n",
       "      <td>59.09</td>\n",
       "      <td>0.660010</td>\n",
       "    </tr>\n",
       "    <tr>\n",
       "      <th>536</th>\n",
       "      <td>Manuka Bee 小蜜坊</td>\n",
       "      <td>https://www.kaola.com/search.html?key=%25E5%25...</td>\n",
       "      <td>2018-11-08</td>\n",
       "      <td>¥42</td>\n",
       "      <td>7.1折</td>\n",
       "      <td>【江疏影同款】【双鱼座专属 包邮】Manuka bee 小蜜坊 亲蜜润唇棒 5.5g 薄荷绿</td>\n",
       "      <td>非自营</td>\n",
       "      <td>79选3</td>\n",
       "      <td>NaN</td>\n",
       "      <td>NaN</td>\n",
       "      <td>6</td>\n",
       "      <td>https://www.kaola.com/product/2476378.html</td>\n",
       "      <td>新西兰</td>\n",
       "      <td>非自营</td>\n",
       "      <td>¥59.15</td>\n",
       "      <td>42.0</td>\n",
       "      <td>59.15</td>\n",
       "      <td>0.710059</td>\n",
       "    </tr>\n",
       "    <tr>\n",
       "      <th>537</th>\n",
       "      <td>Manuka Bee 小蜜坊</td>\n",
       "      <td>https://www.kaola.com/search.html?key=%25E5%25...</td>\n",
       "      <td>2018-11-08</td>\n",
       "      <td>¥59</td>\n",
       "      <td>6折</td>\n",
       "      <td>【双色玩转 护唇新体验 包邮】Manuka Bee 小蜜坊 变色润唇棒 珊瑚红</td>\n",
       "      <td>非自营</td>\n",
       "      <td>特价</td>\n",
       "      <td>特价</td>\n",
       "      <td>NaN</td>\n",
       "      <td>3</td>\n",
       "      <td>https://www.kaola.com/product/2544041.html</td>\n",
       "      <td>新西兰</td>\n",
       "      <td>非自营</td>\n",
       "      <td>¥98.33</td>\n",
       "      <td>59.0</td>\n",
       "      <td>98.33</td>\n",
       "      <td>0.600020</td>\n",
       "    </tr>\n",
       "    <tr>\n",
       "      <th>538</th>\n",
       "      <td>Manuka Bee 小蜜坊</td>\n",
       "      <td>https://www.kaola.com/search.html?key=%25E5%25...</td>\n",
       "      <td>2018-11-08</td>\n",
       "      <td>¥29.9</td>\n",
       "      <td>5.1折</td>\n",
       "      <td>【江疏影同款 袁姗姗剧款 十二星座专属 】Manuka bee 小蜜坊 亲蜜润唇棒 5.5g</td>\n",
       "      <td>非自营</td>\n",
       "      <td>特价</td>\n",
       "      <td>特价</td>\n",
       "      <td>NaN</td>\n",
       "      <td>0</td>\n",
       "      <td>https://www.kaola.com/product/2680449.html</td>\n",
       "      <td>新西兰</td>\n",
       "      <td>非自营</td>\n",
       "      <td>¥58.63</td>\n",
       "      <td>29.9</td>\n",
       "      <td>58.63</td>\n",
       "      <td>0.509978</td>\n",
       "    </tr>\n",
       "    <tr>\n",
       "      <th>539</th>\n",
       "      <td>Manuka Bee 小蜜坊</td>\n",
       "      <td>https://www.kaola.com/search.html?key=%25E5%25...</td>\n",
       "      <td>2018-11-08</td>\n",
       "      <td>¥59</td>\n",
       "      <td>6折</td>\n",
       "      <td>【唇部SPA 包邮】Manuka bee 小蜜坊 三重密集滋养修护唇膜</td>\n",
       "      <td>非自营</td>\n",
       "      <td>特价</td>\n",
       "      <td>特价</td>\n",
       "      <td>NaN</td>\n",
       "      <td>20</td>\n",
       "      <td>https://www.kaola.com/product/2499878.html</td>\n",
       "      <td>新西兰</td>\n",
       "      <td>非自营</td>\n",
       "      <td>¥98.33</td>\n",
       "      <td>59.0</td>\n",
       "      <td>98.33</td>\n",
       "      <td>0.600020</td>\n",
       "    </tr>\n",
       "  </tbody>\n",
       "</table>\n",
       "</div>"
      ],
      "text/plain": [
       "                 品牌                                               页面网址  \\\n",
       "530  Manuka Bee 小蜜坊  https://www.kaola.com/search.html?key=%25E5%25...   \n",
       "531  Manuka Bee 小蜜坊  https://www.kaola.com/search.html?key=%25E5%25...   \n",
       "532  Manuka Bee 小蜜坊  https://www.kaola.com/search.html?key=%25E5%25...   \n",
       "533  Manuka Bee 小蜜坊  https://www.kaola.com/search.html?key=%25E5%25...   \n",
       "534  Manuka Bee 小蜜坊  https://www.kaola.com/search.html?key=%25E5%25...   \n",
       "535  Manuka Bee 小蜜坊  https://www.kaola.com/search.html?key=%25E5%25...   \n",
       "536  Manuka Bee 小蜜坊  https://www.kaola.com/search.html?key=%25E5%25...   \n",
       "537  Manuka Bee 小蜜坊  https://www.kaola.com/search.html?key=%25E5%25...   \n",
       "538  Manuka Bee 小蜜坊  https://www.kaola.com/search.html?key=%25E5%25...   \n",
       "539  Manuka Bee 小蜜坊  https://www.kaola.com/search.html?key=%25E5%25...   \n",
       "\n",
       "           采集时间    折扣价    原价  \\\n",
       "530  2018-11-08    ¥39  6.6折   \n",
       "531  2018-11-08    ¥39  6.6折   \n",
       "532  2018-11-08    ¥39  6.6折   \n",
       "533  2018-11-08    ¥39  6.6折   \n",
       "534  2018-11-08    ¥39  6.6折   \n",
       "535  2018-11-08    ¥39  6.6折   \n",
       "536  2018-11-08    ¥42  7.1折   \n",
       "537  2018-11-08    ¥59    6折   \n",
       "538  2018-11-08  ¥29.9  5.1折   \n",
       "539  2018-11-08    ¥59    6折   \n",
       "\n",
       "                                                  商品标题 是否自营   标签1  标签2  标签3  \\\n",
       "530  【江疏影同款 袁姗姗剧款 水瓶座专属 包邮】Manuka bee 小蜜坊 亲蜜润唇棒 5.5...  非自营  79选3  NaN  NaN   \n",
       "531  【江疏影同款 袁姗姗剧款 金牛座专属 包邮】Manuka bee 小蜜坊 亲蜜润唇棒 5.5...  非自营  79选3  NaN  NaN   \n",
       "532  【江疏影同款 袁姗姗剧款 白羊座专属 包邮】Manuka bee 小蜜坊 亲蜜润唇棒 5.5...  非自营  79选3  NaN  NaN   \n",
       "533  【江疏影同款 袁姗姗剧款 双子座专属 包邮】Manuka bee 小蜜坊 亲蜜润唇棒 5.5...  非自营  79选3  NaN  NaN   \n",
       "534  【江疏影同款 袁姗姗剧款 射手座专属 包邮】Manuka bee 小蜜坊 亲蜜润唇棒 5.5...  非自营  79选3  NaN  NaN   \n",
       "535  【江疏影同款 袁姗姗剧款 处女座专属 包邮】Manuka bee 小蜜坊 亲蜜润唇棒 5.5...  非自营  79选3  NaN  NaN   \n",
       "536     【江疏影同款】【双鱼座专属 包邮】Manuka bee 小蜜坊 亲蜜润唇棒 5.5g 薄荷绿  非自营  79选3  NaN  NaN   \n",
       "537            【双色玩转 护唇新体验 包邮】Manuka Bee 小蜜坊 变色润唇棒 珊瑚红  非自营    特价   特价  NaN   \n",
       "538     【江疏影同款 袁姗姗剧款 十二星座专属 】Manuka bee 小蜜坊 亲蜜润唇棒 5.5g  非自营    特价   特价  NaN   \n",
       "539                【唇部SPA 包邮】Manuka bee 小蜜坊 三重密集滋养修护唇膜  非自营    特价   特价  NaN   \n",
       "\n",
       "     评论数                                        商品链接   国家   店铺 price_0  折扣价_0  \\\n",
       "530   15  https://www.kaola.com/product/2476322.html  新西兰  非自营  ¥59.09   39.0   \n",
       "531   14  https://www.kaola.com/product/2475930.html  新西兰  非自营  ¥59.09   39.0   \n",
       "532   14  https://www.kaola.com/product/2475741.html  新西兰  非自营  ¥59.09   39.0   \n",
       "533   10  https://www.kaola.com/product/2475781.html  新西兰  非自营  ¥59.09   39.0   \n",
       "534    7  https://www.kaola.com/product/2476281.html  新西兰  非自营  ¥59.09   39.0   \n",
       "535    5  https://www.kaola.com/product/2476062.html  新西兰  非自营  ¥59.09   39.0   \n",
       "536    6  https://www.kaola.com/product/2476378.html  新西兰  非自营  ¥59.15   42.0   \n",
       "537    3  https://www.kaola.com/product/2544041.html  新西兰  非自营  ¥98.33   59.0   \n",
       "538    0  https://www.kaola.com/product/2680449.html  新西兰  非自营  ¥58.63   29.9   \n",
       "539   20  https://www.kaola.com/product/2499878.html  新西兰  非自营  ¥98.33   59.0   \n",
       "\n",
       "      原价_0  discount  \n",
       "530  59.09  0.660010  \n",
       "531  59.09  0.660010  \n",
       "532  59.09  0.660010  \n",
       "533  59.09  0.660010  \n",
       "534  59.09  0.660010  \n",
       "535  59.09  0.660010  \n",
       "536  59.15  0.710059  \n",
       "537  98.33  0.600020  \n",
       "538  58.63  0.509978  \n",
       "539  98.33  0.600020  "
      ]
     },
     "execution_count": 21,
     "metadata": {},
     "output_type": "execute_result"
    }
   ],
   "source": [
    "Data.tail(10)"
   ]
  },
  {
   "cell_type": "markdown",
   "metadata": {},
   "source": [
    "## 品牌"
   ]
  },
  {
   "cell_type": "markdown",
   "metadata": {},
   "source": [
    "### 热度"
   ]
  },
  {
   "cell_type": "code",
   "execution_count": 22,
   "metadata": {},
   "outputs": [],
   "source": [
    "from pyecharts import configure\n",
    "configure(global_theme='vintage')\n",
    "from pyecharts import Line, Bar, Pie,Grid,WordCloud,Overlap\n",
    "from IPython.display import display, Image\n",
    "x=Data.groupby('品牌').sum()['评论数'].sort_values(ascending=False).index\n",
    "y=Data.groupby('品牌').sum()['评论数'].sort_values(ascending=False)"
   ]
  },
  {
   "cell_type": "code",
   "execution_count": 27,
   "metadata": {},
   "outputs": [
    {
     "data": {
      "text/html": [
       "<script>\n",
       "    require.config({\n",
       "        paths: {\n",
       "            'echarts': '/nbextensions/echarts/echarts.min'\n",
       "        }\n",
       "    });\n",
       "</script>\n",
       "    <div id=\"06f443614e91414483afe7fe65f904d2\" style=\"width:1000px;height:800px;\"></div>\n",
       "\n",
       "\n",
       "<script>\n",
       "    require(['echarts'], function(echarts) {\n",
       "        \n",
       "var myChart_06f443614e91414483afe7fe65f904d2 = echarts.init(document.getElementById('06f443614e91414483afe7fe65f904d2'), null, {renderer: 'canvas'});\n",
       "\n",
       "var option_06f443614e91414483afe7fe65f904d2 = {\n",
       "    \"title\": [\n",
       "        {\n",
       "            \"text\": \"\\u54c1\\u724cVS\\u8bc4\\u8bba\\u6570\\u603b\\u548c\",\n",
       "            \"subtext\": \"2019-09-22\",\n",
       "            \"left\": \"left\",\n",
       "            \"top\": \"auto\",\n",
       "            \"textStyle\": {\n",
       "                \"color\": \"#000\",\n",
       "                \"fontSize\": 22\n",
       "            },\n",
       "            \"subtextStyle\": {\n",
       "                \"color\": \"#aaa\",\n",
       "                \"fontSize\": 12\n",
       "            }\n",
       "        }\n",
       "    ],\n",
       "    \"toolbox\": {\n",
       "        \"show\": true,\n",
       "        \"orient\": \"vertical\",\n",
       "        \"left\": \"95%\",\n",
       "        \"top\": \"center\",\n",
       "        \"feature\": {\n",
       "            \"saveAsImage\": {\n",
       "                \"show\": true,\n",
       "                \"title\": \"\\u4e0b\\u8f7d\\u56fe\\u7247\"\n",
       "            },\n",
       "            \"restore\": {\n",
       "                \"show\": true\n",
       "            },\n",
       "            \"dataView\": {\n",
       "                \"show\": true\n",
       "            }\n",
       "        }\n",
       "    },\n",
       "    \"series_id\": 3068692,\n",
       "    \"tooltip\": {\n",
       "        \"trigger\": \"item\",\n",
       "        \"triggerOn\": \"mousemove|click\",\n",
       "        \"axisPointer\": {\n",
       "            \"type\": \"line\"\n",
       "        },\n",
       "        \"formatter\": null,\n",
       "        \"textStyle\": {\n",
       "            \"color\": \"#fff\",\n",
       "            \"fontSize\": 14\n",
       "        },\n",
       "        \"backgroundColor\": \"rgba(50,50,50,0.7)\",\n",
       "        \"borderColor\": \"#333\",\n",
       "        \"borderWidth\": 0\n",
       "    },\n",
       "    \"series\": [\n",
       "        {\n",
       "            \"type\": \"bar\",\n",
       "            \"name\": \"\\u54c1\\u724cVS\\u8bc4\\u8bba\\u6570\\u603b\\u548c\",\n",
       "            \"data\": [\n",
       "                89341.0,\n",
       "                34497.0,\n",
       "                30597.0,\n",
       "                23730.0,\n",
       "                15302.0,\n",
       "                7861.0,\n",
       "                7200.0,\n",
       "                7083.0,\n",
       "                7045.0,\n",
       "                6761.0,\n",
       "                4999.0,\n",
       "                4962.0,\n",
       "                3311.0,\n",
       "                3129.0,\n",
       "                2855.0,\n",
       "                2071.0,\n",
       "                1873.0,\n",
       "                1404.0,\n",
       "                386.0,\n",
       "                140.0\n",
       "            ],\n",
       "            \"stack\": \"\",\n",
       "            \"barCategoryGap\": 5,\n",
       "            \"label\": {\n",
       "                \"normal\": {\n",
       "                    \"show\": true,\n",
       "                    \"position\": \"top\",\n",
       "                    \"textStyle\": {\n",
       "                        \"color\": \"#000\",\n",
       "                        \"fontSize\": 12\n",
       "                    }\n",
       "                },\n",
       "                \"emphasis\": {\n",
       "                    \"show\": true,\n",
       "                    \"position\": null,\n",
       "                    \"textStyle\": {\n",
       "                        \"color\": \"#fff\",\n",
       "                        \"fontSize\": 12\n",
       "                    }\n",
       "                }\n",
       "            },\n",
       "            \"markPoint\": {\n",
       "                \"data\": []\n",
       "            },\n",
       "            \"markLine\": {\n",
       "                \"data\": []\n",
       "            },\n",
       "            \"seriesId\": 3068692\n",
       "        }\n",
       "    ],\n",
       "    \"legend\": [\n",
       "        {\n",
       "            \"data\": [\n",
       "                \"\\u54c1\\u724cVS\\u8bc4\\u8bba\\u6570\\u603b\\u548c\"\n",
       "            ],\n",
       "            \"selectedMode\": \"multiple\",\n",
       "            \"show\": true,\n",
       "            \"left\": \"center\",\n",
       "            \"top\": \"top\",\n",
       "            \"orient\": \"horizontal\",\n",
       "            \"textStyle\": {\n",
       "                \"fontSize\": 12,\n",
       "                \"color\": \"#333\"\n",
       "            }\n",
       "        }\n",
       "    ],\n",
       "    \"backgroundColor\": \"white\",\n",
       "    \"xAxis\": [\n",
       "        {\n",
       "            \"name\": \"\",\n",
       "            \"show\": true,\n",
       "            \"nameLocation\": \"middle\",\n",
       "            \"nameGap\": 25,\n",
       "            \"nameTextStyle\": {\n",
       "                \"fontSize\": 14\n",
       "            },\n",
       "            \"axisTick\": {\n",
       "                \"alignWithLabel\": false\n",
       "            },\n",
       "            \"inverse\": false,\n",
       "            \"position\": null,\n",
       "            \"boundaryGap\": true,\n",
       "            \"min\": null,\n",
       "            \"max\": null,\n",
       "            \"type\": \"category\",\n",
       "            \"splitLine\": {\n",
       "                \"show\": false\n",
       "            },\n",
       "            \"axisLabel\": {\n",
       "                \"interval\": \"auto\",\n",
       "                \"formatter\": null,\n",
       "                \"rotate\": 30,\n",
       "                \"margin\": 8,\n",
       "                \"textStyle\": {\n",
       "                    \"fontSize\": \"9\",\n",
       "                    \"color\": \"#000\"\n",
       "                }\n",
       "            },\n",
       "            \"data\": [\n",
       "                \"Dior \\u8fea\\u5965\",\n",
       "                \"SHISEIDO \\u8d44\\u751f\\u5802\",\n",
       "                \"MAC \\u9b45\\u53ef\",\n",
       "                \"SAINT LAURENT PARIS \\u5723\\u7f57\\u5170\",\n",
       "                \"GIVENCHY \\u7eaa\\u68b5\\u5e0c\",\n",
       "                \"L'OR\\u00c9AL \\u6b27\\u83b1\\u96c5\",\n",
       "                \"TOM FORD \\u6c64\\u59c6\\u00b7\\u798f\\u7279\",\n",
       "                \"KIKO MILANO\",\n",
       "                \"LANC\\u00d4ME \\u5170\\u853b\",\n",
       "                \"EST\\u0112E LAUDER \\u96c5\\u8bd7\\u5170\\u9edb\",\n",
       "                \"CHANEL \\u9999\\u5948\\u513f\",\n",
       "                \"GIORGIO ARMANI \\u4e54\\u6cbb\\u00b7\\u963f\\u739b\\u5c3c\",\n",
       "                \"GUERLAIN \\u5a07\\u5170\",\n",
       "                \"Maybelline \\u7f8e\\u5b9d\\u83b2\",\n",
       "                \"MARIE DALGAR \\u739b\\u4e3d\\u9edb\\u4f73\",\n",
       "                \"wet n wild\",\n",
       "                \"MENTHOLATUM \\u66fc\\u79c0\\u96f7\\u6566\",\n",
       "                \"Manuka Bee \\u5c0f\\u871c\\u574a\",\n",
       "                \"Mamonde \\u68a6\\u5986\",\n",
       "                \"BareMinerals\"\n",
       "            ]\n",
       "        }\n",
       "    ],\n",
       "    \"yAxis\": [\n",
       "        {\n",
       "            \"name\": \"\\u8bc4\\u8bba\\u6570\\u603b\\u548c\",\n",
       "            \"show\": true,\n",
       "            \"nameLocation\": \"middle\",\n",
       "            \"nameGap\": 25,\n",
       "            \"nameTextStyle\": {\n",
       "                \"fontSize\": 14\n",
       "            },\n",
       "            \"axisTick\": {\n",
       "                \"alignWithLabel\": false\n",
       "            },\n",
       "            \"inverse\": false,\n",
       "            \"position\": null,\n",
       "            \"boundaryGap\": true,\n",
       "            \"min\": null,\n",
       "            \"max\": null,\n",
       "            \"type\": \"value\",\n",
       "            \"splitLine\": {\n",
       "                \"show\": true\n",
       "            },\n",
       "            \"axisLabel\": {\n",
       "                \"interval\": \"auto\",\n",
       "                \"formatter\": \"{value} \",\n",
       "                \"rotate\": 0,\n",
       "                \"margin\": 8,\n",
       "                \"textStyle\": {\n",
       "                    \"fontSize\": \"9\",\n",
       "                    \"color\": \"#000\"\n",
       "                }\n",
       "            }\n",
       "        }\n",
       "    ],\n",
       "    \"color\": [\n",
       "        \"#c23531\",\n",
       "        \"#2f4554\",\n",
       "        \"#61a0a8\",\n",
       "        \"#d48265\",\n",
       "        \"#749f83\",\n",
       "        \"#ca8622\",\n",
       "        \"#bda29a\",\n",
       "        \"#6e7074\",\n",
       "        \"#546570\",\n",
       "        \"#c4ccd3\",\n",
       "        \"#f05b72\",\n",
       "        \"#ef5b9c\",\n",
       "        \"#f47920\",\n",
       "        \"#905a3d\",\n",
       "        \"#fab27b\",\n",
       "        \"#2a5caa\",\n",
       "        \"#444693\",\n",
       "        \"#726930\",\n",
       "        \"#b2d235\",\n",
       "        \"#6d8346\",\n",
       "        \"#ac6767\",\n",
       "        \"#1d953f\",\n",
       "        \"#6950a1\",\n",
       "        \"#918597\",\n",
       "        \"#f6f5ec\"\n",
       "    ]\n",
       "};\n",
       "myChart_06f443614e91414483afe7fe65f904d2.setOption(option_06f443614e91414483afe7fe65f904d2);\n",
       "\n",
       "    });\n",
       "</script>\n"
      ],
      "text/plain": [
       "<pyecharts.charts.bar.Bar at 0x2301f633710>"
      ]
     },
     "metadata": {},
     "output_type": "display_data"
    }
   ],
   "source": [
    "bar=Bar(title='品牌VS评论数总和', subtitle=\"2019-09-22\",title_pos='left',title_text_size=22,width=1000,height=800,background_color='white')\n",
    "bar.add(name='品牌VS评论数总和',x_axis =x, y_axis = y,bar_category_gap=5, is_label_show=True, yaxis_name= \"评论数总和\",xaxis_line_width= 10,\n",
    "    xaxis_rotate = 30,xaxis_label_textsize='9',yaxis_label_textsize='9')\n",
    "display(bar)"
   ]
  },
  {
   "cell_type": "markdown",
   "metadata": {},
   "source": [
    "### 原产地"
   ]
  },
  {
   "cell_type": "code",
   "execution_count": null,
   "metadata": {},
   "outputs": [],
   "source": [
    "from pyecharts import Pie\n",
    "configure(output_image=True)\n",
    "attr = Data['国家'].value_counts().sort_values(ascending=False).index\n",
    "v=Data['国家'].value_counts().sort_values(ascending=False)\n",
    "pie =Pie('各产地国家占比',background_color = 'white',title_pos = 'center')\n",
    "pie.add('',attr,v,is_label_show = True,radius=[25,75],is_legend_show =False,label_formatter='{d}')\n",
    "display(pie)"
   ]
  },
  {
   "cell_type": "markdown",
   "metadata": {},
   "source": [
    "可以看到在网易考拉网上，迪奥的市场份额属于第一梯队，资生堂、MAC、圣罗兰、纪梵希属于第二梯队；\n",
    "热门品牌中原产地多数为法国，原产地的饼图也可见法国为口红大国，占了52.22%。"
   ]
  },
  {
   "cell_type": "markdown",
   "metadata": {},
   "source": [
    "### SKU"
   ]
  },
  {
   "cell_type": "code",
   "execution_count": null,
   "metadata": {},
   "outputs": [],
   "source": [
    "x1=Data['品牌'].value_counts().sort_values(ascending=False).index\n",
    "y1=Data['品牌'].value_counts().sort_values(ascending=False)\n",
    "bar=Pie(title='各品牌SKU数占比', subtitle=\"2019-09-22\",title_pos='left',title_text_size=22,width=1000,height=800,background_color='white')\n",
    "bar.add('品牌 VS SKU',x1,y1,is_label_show = True,is_legend_show =False, center=[50, 50], radius=[30, 75], rosetype='radius',label_formatter='{d}')\n",
    "display(bar)"
   ]
  },
  {
   "cell_type": "markdown",
   "metadata": {},
   "source": [
    "考拉海淘网上迪奥、圣罗兰等品牌是消费者的主要选择；\n",
    "而位于最后的KIKO，梦妆，曼秀雷敦则比较小众。"
   ]
  },
  {
   "cell_type": "markdown",
   "metadata": {},
   "source": [
    "### 热门品牌Top10"
   ]
  },
  {
   "cell_type": "code",
   "execution_count": null,
   "metadata": {},
   "outputs": [],
   "source": [
    "x2=Data.groupby('品牌').mean()['评论数'].sort_values(ascending=False).head(10).index\n",
    "y2=Data.groupby('品牌').mean().round(2)['评论数'].sort_values(ascending=False).head(10)\n",
    "bar=Bar(title='热门品牌Top10', subtitle=\"2019-09-22\",title_pos='left',title_text_size=22, title_color='black', width=1000,height=800,background_color='white')\n",
    "bar.add(name='品牌',x_axis =x2, y_axis = y2,bar_category_gap=5, is_label_show=True, yaxis_name= \"评论数均值\",xaxis_line_width= 10,xaxis_label_textsize='6',yaxis_label_textsize='9',\n",
    "xaxis_rotate = 30,yaxis_name_gap=30, is_random= True)\n",
    "display(bar)"
   ]
  },
  {
   "cell_type": "markdown",
   "metadata": {},
   "source": [
    "KIKO热度最高，则是因为某一单品评论数高而总的品类数少。"
   ]
  },
  {
   "cell_type": "markdown",
   "metadata": {},
   "source": [
    "### 热门单品Top10"
   ]
  },
  {
   "cell_type": "code",
   "execution_count": null,
   "metadata": {
    "scrolled": true
   },
   "outputs": [],
   "source": [
    "x3=Data.groupby('商品标题').max()['评论数'].sort_values(ascending=False).head(10).index\n",
    "y3=Data.groupby('商品标题').max()['评论数'].sort_values(ascending=False).head(10)\n",
    "bar=Bar(title='热门单品Top10', subtitle=\"2019-09-22\",title_pos='right',title_text_size=22, title_color='black', width=1200,height=800,background_color='white')\n",
    "bar.add(name='品牌',x_axis =x3, y_axis = y3,bar_category_gap=5, is_label_show=True, yaxis_name= \"最大评论数\",xaxis_label_textsize='6',yaxis_label_textsize='9',\n",
    "xaxis_rotate = 30, is_random= True)\n",
    "display(bar)"
   ]
  },
  {
   "cell_type": "markdown",
   "metadata": {},
   "source": [
    "从热门单品TOP10与热门品牌TOP10的结果相似，主要是迪奥、资生堂、MAC。"
   ]
  },
  {
   "cell_type": "markdown",
   "metadata": {},
   "source": [
    "### 定价"
   ]
  },
  {
   "cell_type": "code",
   "execution_count": null,
   "metadata": {
    "scrolled": true
   },
   "outputs": [],
   "source": [
    "x4=Data.groupby('品牌').mean().round(2)['discount'].sort_values(ascending=False).index\n",
    "y4=Data.groupby('品牌').mean().round(2)['discount'].sort_values(ascending=False)\n",
    "y5=Data.groupby('品牌').mean().round(2)['折扣价_0'].sort_values(ascending=False)\n",
    "line=Line(title='定价比较', subtitle=\"2019-09-22\",title_pos='left',title_text_size=8, title_color='black', width=1500,height=100,background_color='white')\n",
    "line.add(name='折扣比例',x_axis =x4, y_axis = y4,mark_line=[\"average\"],is_label_show=True, yaxis_name= \"平均折扣比例\",yaxis_name_gap=35,\n",
    "xaxis_rotate = 30)\n",
    "\n",
    "bar=Bar(title='定价比较', subtitle=\"2019-09-22\",title_pos='left',title_text_size=8, title_color='black', width=1500,height=100,background_color='white')\n",
    "bar.add(name='折扣价格',x_axis =x4, y_axis = y5,bar_category_gap=5,mark_line=[\"average\"], yaxis_name= \"平均折扣价格\",yaxis_name_gap=35,is_random= True,\n",
    "xaxis_rotate = 30)\n",
    "overlap =Overlap()\n",
    "overlap.add(bar)\n",
    "\n",
    "overlap.add(line,yaxis_index=1, is_add_yaxis=True)\n",
    "display(overlap)"
   ]
  },
  {
   "cell_type": "markdown",
   "metadata": {},
   "source": [
    "梦妆折扣力度大且价格低，乔治·阿玛尼折扣力度最小且价格高；汤姆·福特定价最高，曼秀雷敦定价最低。\n",
    "\n",
    "价格高的口红打折力度较小。"
   ]
  },
  {
   "cell_type": "markdown",
   "metadata": {},
   "source": [
    "### 标签"
   ]
  },
  {
   "cell_type": "code",
   "execution_count": null,
   "metadata": {},
   "outputs": [],
   "source": [
    "df=Data.loc[:,['标签1','标签2','标签3']]\n",
    "name=df.apply(pd.value_counts).sum(1).index\n",
    "name.value_counts()"
   ]
  },
  {
   "cell_type": "code",
   "execution_count": null,
   "metadata": {},
   "outputs": [],
   "source": [
    "value=df.apply(pd.value_counts).sum(1)\n",
    "value.apply(int).sort_values(ascending=False)"
   ]
  },
  {
   "cell_type": "code",
   "execution_count": null,
   "metadata": {},
   "outputs": [],
   "source": [
    "wordcloud = WordCloud(width=500, height=500)\n",
    "wordcloud.add(\"\", name, value, word_size_range=[20, 100])\n",
    "display(wordcloud)"
   ]
  },
  {
   "cell_type": "markdown",
   "metadata": {},
   "source": [
    "白条免息，特价，包税为口红促销常用标签。"
   ]
  }
 ],
 "metadata": {
  "kernelspec": {
   "display_name": "Python 3",
   "language": "python",
   "name": "python3"
  },
  "language_info": {
   "codemirror_mode": {
    "name": "ipython",
    "version": 3
   },
   "file_extension": ".py",
   "mimetype": "text/x-python",
   "name": "python",
   "nbconvert_exporter": "python",
   "pygments_lexer": "ipython3",
   "version": "3.7.3"
  }
 },
 "nbformat": 4,
 "nbformat_minor": 4
}
